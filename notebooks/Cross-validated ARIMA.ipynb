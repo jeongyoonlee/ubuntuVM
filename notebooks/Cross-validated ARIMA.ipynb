{
 "cells": [
  {
   "cell_type": "markdown",
   "metadata": {},
   "source": [
    "# Semi-automated ARIMA model selection \n",
    "\n",
    "In this notebook, we demonstrate model selection over the `order` parameter of the Arima class of recursive forecast models. The order here refers to the triple (p,d,q) specifying the auto-regressive, differencing, and moving average orders. While we don't currently support an entirely automatic order selection (like, e.g. auto.arima in R), we do allow selection from a given set of orders using the `BestOfForecaster` estimator. "
   ]
  },
  {
   "cell_type": "code",
   "execution_count": 13,
   "metadata": {},
   "outputs": [
    {
     "name": "stdout",
     "output_type": "stream",
     "text": [
      "imports done.\n"
     ]
    }
   ],
   "source": [
    "import warnings\n",
    "\n",
    "# Suppress warnings\n",
    "warnings.filterwarnings(\"ignore\")\n",
    "import pandas as pd\n",
    "import numpy as np\n",
    "\n",
    "from sklearn.metrics import mean_absolute_error\n",
    "\n",
    "from ftk import TimeSeriesDataFrame, ForecastDataFrame\n",
    "from ftk.models import Arima, BestOfForecaster\n",
    "from ftk.model_selection import RollingOriginValidator\n",
    "\n",
    "from ftk.data import load_dow_jones_dataset\n",
    "print('imports done.')"
   ]
  },
  {
   "cell_type": "markdown",
   "metadata": {},
   "source": [
    "Here, we loading some sample data from the Dow Jones revenue data set."
   ]
  },
  {
   "cell_type": "code",
   "execution_count": 14,
   "metadata": {},
   "outputs": [
    {
     "data": {
      "text/html": [
       "<div>\n",
       "<style>\n",
       "    .dataframe thead tr:only-child th {\n",
       "        text-align: right;\n",
       "    }\n",
       "\n",
       "    .dataframe thead th {\n",
       "        text-align: left;\n",
       "    }\n",
       "\n",
       "    .dataframe tbody tr th {\n",
       "        vertical-align: top;\n",
       "    }\n",
       "</style>\n",
       "<table border=\"1\" class=\"dataframe\">\n",
       "  <thead>\n",
       "    <tr style=\"text-align: right;\">\n",
       "      <th></th>\n",
       "      <th></th>\n",
       "      <th>revenue</th>\n",
       "    </tr>\n",
       "    <tr>\n",
       "      <th>quarter_start</th>\n",
       "      <th>company_ticker</th>\n",
       "      <th></th>\n",
       "    </tr>\n",
       "  </thead>\n",
       "  <tbody>\n",
       "    <tr>\n",
       "      <th>2013-04-01</th>\n",
       "      <th>AAPL</th>\n",
       "      <td>35323.00</td>\n",
       "    </tr>\n",
       "    <tr>\n",
       "      <th>2013-07-01</th>\n",
       "      <th>AAPL</th>\n",
       "      <td>37472.00</td>\n",
       "    </tr>\n",
       "    <tr>\n",
       "      <th>2013-10-01</th>\n",
       "      <th>AAPL</th>\n",
       "      <td>57594.00</td>\n",
       "    </tr>\n",
       "    <tr>\n",
       "      <th>2014-01-01</th>\n",
       "      <th>AAPL</th>\n",
       "      <td>45646.00</td>\n",
       "    </tr>\n",
       "    <tr>\n",
       "      <th>2014-04-01</th>\n",
       "      <th>AAPL</th>\n",
       "      <td>37432.00</td>\n",
       "    </tr>\n",
       "  </tbody>\n",
       "</table>\n",
       "</div>"
      ],
      "text/plain": [
       "                              revenue\n",
       "quarter_start company_ticker         \n",
       "2013-04-01    AAPL           35323.00\n",
       "2013-07-01    AAPL           37472.00\n",
       "2013-10-01    AAPL           57594.00\n",
       "2014-01-01    AAPL           45646.00\n",
       "2014-04-01    AAPL           37432.00"
      ]
     },
     "execution_count": 14,
     "metadata": {},
     "output_type": "execute_result"
    }
   ],
   "source": [
    "train_df, test_df = load_dow_jones_dataset()\n",
    "train_df = train_df[train_df.grain_index.isin(['AAPL'])]\n",
    "test_df = test_df[test_df.grain_index.isin(['AAPL'])]\n",
    "train_df.tail()"
   ]
  },
  {
   "cell_type": "markdown",
   "metadata": {},
   "source": [
    "We'll start by fitting a single, default Arima model. We only specify the time series frequency, which is quarterly with the time points anchored to the start of the quarter."
   ]
  },
  {
   "cell_type": "code",
   "execution_count": 15,
   "metadata": {},
   "outputs": [],
   "source": [
    "arima_model = Arima(freq='QS')"
   ]
  },
  {
   "cell_type": "code",
   "execution_count": 17,
   "metadata": {},
   "outputs": [
    {
     "data": {
      "text/plain": [
       "Arima(freq=<QuarterBegin: startingMonth=1>, order=[1, 0, 0],\n",
       "   origin_time_colname='origin',\n",
       "   pred_dist_colname='DistributionForecastArima',\n",
       "   pred_point_colname='PointForecastArima', seasonality=None)"
      ]
     },
     "execution_count": 17,
     "metadata": {},
     "output_type": "execute_result"
    }
   ],
   "source": [
    "arima_model"
   ]
  },
  {
   "cell_type": "code",
   "execution_count": 18,
   "metadata": {},
   "outputs": [
    {
     "data": {
      "text/html": [
       "<div>\n",
       "<style>\n",
       "    .dataframe thead tr:only-child th {\n",
       "        text-align: right;\n",
       "    }\n",
       "\n",
       "    .dataframe thead th {\n",
       "        text-align: left;\n",
       "    }\n",
       "\n",
       "    .dataframe tbody tr th {\n",
       "        vertical-align: top;\n",
       "    }\n",
       "</style>\n",
       "<table border=\"1\" class=\"dataframe\">\n",
       "  <thead>\n",
       "    <tr style=\"text-align: right;\">\n",
       "      <th></th>\n",
       "      <th></th>\n",
       "      <th></th>\n",
       "      <th>revenue</th>\n",
       "      <th>DistributionForecastArima</th>\n",
       "      <th>PointForecastArima</th>\n",
       "    </tr>\n",
       "    <tr>\n",
       "      <th>quarter_start</th>\n",
       "      <th>company_ticker</th>\n",
       "      <th>origin</th>\n",
       "      <th></th>\n",
       "      <th></th>\n",
       "      <th></th>\n",
       "    </tr>\n",
       "  </thead>\n",
       "  <tbody>\n",
       "    <tr>\n",
       "      <th>2014-07-01</th>\n",
       "      <th>AAPL</th>\n",
       "      <th>2014-04-01</th>\n",
       "      <td>42123.00</td>\n",
       "      <td>&lt;scipy.stats._distn_infrastructure.rv_frozen o...</td>\n",
       "      <td>36222.98</td>\n",
       "    </tr>\n",
       "    <tr>\n",
       "      <th>2014-10-01</th>\n",
       "      <th>AAPL</th>\n",
       "      <th>2014-04-01</th>\n",
       "      <td>74599.00</td>\n",
       "      <td>&lt;scipy.stats._distn_infrastructure.rv_frozen o...</td>\n",
       "      <td>35082.25</td>\n",
       "    </tr>\n",
       "    <tr>\n",
       "      <th>2015-01-01</th>\n",
       "      <th>AAPL</th>\n",
       "      <th>2014-04-01</th>\n",
       "      <td>58010.00</td>\n",
       "      <td>&lt;scipy.stats._distn_infrastructure.rv_frozen o...</td>\n",
       "      <td>34005.95</td>\n",
       "    </tr>\n",
       "    <tr>\n",
       "      <th>2015-04-01</th>\n",
       "      <th>AAPL</th>\n",
       "      <th>2014-04-01</th>\n",
       "      <td>49605.00</td>\n",
       "      <td>&lt;scipy.stats._distn_infrastructure.rv_frozen o...</td>\n",
       "      <td>32990.43</td>\n",
       "    </tr>\n",
       "  </tbody>\n",
       "</table>\n",
       "</div>"
      ],
      "text/plain": [
       "                                         revenue  \\\n",
       "quarter_start company_ticker origin                \n",
       "2014-07-01    AAPL           2014-04-01 42123.00   \n",
       "2014-10-01    AAPL           2014-04-01 74599.00   \n",
       "2015-01-01    AAPL           2014-04-01 58010.00   \n",
       "2015-04-01    AAPL           2014-04-01 49605.00   \n",
       "\n",
       "                                                                 DistributionForecastArima  \\\n",
       "quarter_start company_ticker origin                                                          \n",
       "2014-07-01    AAPL           2014-04-01  <scipy.stats._distn_infrastructure.rv_frozen o...   \n",
       "2014-10-01    AAPL           2014-04-01  <scipy.stats._distn_infrastructure.rv_frozen o...   \n",
       "2015-01-01    AAPL           2014-04-01  <scipy.stats._distn_infrastructure.rv_frozen o...   \n",
       "2015-04-01    AAPL           2014-04-01  <scipy.stats._distn_infrastructure.rv_frozen o...   \n",
       "\n",
       "                                         PointForecastArima  \n",
       "quarter_start company_ticker origin                          \n",
       "2014-07-01    AAPL           2014-04-01            36222.98  \n",
       "2014-10-01    AAPL           2014-04-01            35082.25  \n",
       "2015-01-01    AAPL           2014-04-01            34005.95  \n",
       "2015-04-01    AAPL           2014-04-01            32990.43  "
      ]
     },
     "execution_count": 18,
     "metadata": {},
     "output_type": "execute_result"
    }
   ],
   "source": [
    "arima_model.fit(train_df)\n",
    "validate_df = arima_model.predict(test_df)\n",
    "validate_df"
   ]
  },
  {
   "cell_type": "markdown",
   "metadata": {},
   "source": [
    "Now, we create a list of order parameters to select over. We'll create a list of Arima forecasters each with a different order setting. The `BestOfForecaster.fit` method will use rolling origin cross-validation to evaluate the different models. Calling its `predict` method will select the model with the best cv-fitting performance and generate predictions from it. Here, model evaluation is with respect to the mean absolute error. The eval metric can be changed through the `metric_fun` fit parameter."
   ]
  },
  {
   "cell_type": "code",
   "execution_count": 19,
   "metadata": {},
   "outputs": [],
   "source": [
    "# Make a list of Arima forecasters to evaluate\n",
    "forecaster_list = list()\n",
    "order_list = [[1, 0, 0], [1, 1, 0], [1, 1, 1], [2, 1, 1],  [2, 2,0]]\n",
    "for order in order_list:\n",
    "    # Make name for each Arima model from its order setting \n",
    "    order_str = ''.join([str(el) for el in order])\n",
    "    mod_name = 'arima' + order_str\n",
    "    forecaster_list.append((mod_name, Arima(freq='QS', order=order)))\n",
    "\n",
    "# Use a rolling origin validator for making temporal cross-validation folds\n",
    "validator = RollingOriginValidator(n_splits=5)\n",
    "\n",
    "# Use BestOfForecaster to select the best Arima model (based on out-of-sample errors)\n",
    "best_forecaster = BestOfForecaster(forecaster_list)\n",
    "best_forecaster.fit(train_df, validator=validator, metric_fun=mean_absolute_error)\n",
    "validate_df = best_forecaster.predict(test_df)"
   ]
  },
  {
   "cell_type": "markdown",
   "metadata": {},
   "source": [
    "Looking at the predictions, it appears that the (2,1,1) Arima model had the best performance."
   ]
  },
  {
   "cell_type": "code",
   "execution_count": 20,
   "metadata": {},
   "outputs": [
    {
     "data": {
      "text/html": [
       "<div>\n",
       "<style>\n",
       "    .dataframe thead tr:only-child th {\n",
       "        text-align: right;\n",
       "    }\n",
       "\n",
       "    .dataframe thead th {\n",
       "        text-align: left;\n",
       "    }\n",
       "\n",
       "    .dataframe tbody tr th {\n",
       "        vertical-align: top;\n",
       "    }\n",
       "</style>\n",
       "<table border=\"1\" class=\"dataframe\">\n",
       "  <thead>\n",
       "    <tr style=\"text-align: right;\">\n",
       "      <th></th>\n",
       "      <th></th>\n",
       "      <th></th>\n",
       "      <th></th>\n",
       "      <th>PointForecast</th>\n",
       "      <th>DistributionForecast</th>\n",
       "      <th>revenue</th>\n",
       "    </tr>\n",
       "    <tr>\n",
       "      <th>quarter_start</th>\n",
       "      <th>company_ticker</th>\n",
       "      <th>ForecastOriginTime</th>\n",
       "      <th>ModelName</th>\n",
       "      <th></th>\n",
       "      <th></th>\n",
       "      <th></th>\n",
       "    </tr>\n",
       "  </thead>\n",
       "  <tbody>\n",
       "    <tr>\n",
       "      <th>2014-07-01</th>\n",
       "      <th>AAPL</th>\n",
       "      <th>2014-04-01</th>\n",
       "      <th>arima211</th>\n",
       "      <td>47416.08</td>\n",
       "      <td>&lt;scipy.stats._distn_infrastructure.rv_frozen o...</td>\n",
       "      <td>42123.00</td>\n",
       "    </tr>\n",
       "    <tr>\n",
       "      <th>2014-10-01</th>\n",
       "      <th>AAPL</th>\n",
       "      <th>2014-04-01</th>\n",
       "      <th>arima211</th>\n",
       "      <td>51486.73</td>\n",
       "      <td>&lt;scipy.stats._distn_infrastructure.rv_frozen o...</td>\n",
       "      <td>74599.00</td>\n",
       "    </tr>\n",
       "    <tr>\n",
       "      <th>2015-01-01</th>\n",
       "      <th>AAPL</th>\n",
       "      <th>2014-04-01</th>\n",
       "      <th>arima211</th>\n",
       "      <td>46640.86</td>\n",
       "      <td>&lt;scipy.stats._distn_infrastructure.rv_frozen o...</td>\n",
       "      <td>58010.00</td>\n",
       "    </tr>\n",
       "    <tr>\n",
       "      <th>2015-04-01</th>\n",
       "      <th>AAPL</th>\n",
       "      <th>2014-04-01</th>\n",
       "      <th>arima211</th>\n",
       "      <td>46629.44</td>\n",
       "      <td>&lt;scipy.stats._distn_infrastructure.rv_frozen o...</td>\n",
       "      <td>49605.00</td>\n",
       "    </tr>\n",
       "  </tbody>\n",
       "</table>\n",
       "</div>"
      ],
      "text/plain": [
       "                                                           PointForecast  \\\n",
       "quarter_start company_ticker ForecastOriginTime ModelName                  \n",
       "2014-07-01    AAPL           2014-04-01         arima211        47416.08   \n",
       "2014-10-01    AAPL           2014-04-01         arima211        51486.73   \n",
       "2015-01-01    AAPL           2014-04-01         arima211        46640.86   \n",
       "2015-04-01    AAPL           2014-04-01         arima211        46629.44   \n",
       "\n",
       "                                                                                        DistributionForecast  \\\n",
       "quarter_start company_ticker ForecastOriginTime ModelName                                                      \n",
       "2014-07-01    AAPL           2014-04-01         arima211   <scipy.stats._distn_infrastructure.rv_frozen o...   \n",
       "2014-10-01    AAPL           2014-04-01         arima211   <scipy.stats._distn_infrastructure.rv_frozen o...   \n",
       "2015-01-01    AAPL           2014-04-01         arima211   <scipy.stats._distn_infrastructure.rv_frozen o...   \n",
       "2015-04-01    AAPL           2014-04-01         arima211   <scipy.stats._distn_infrastructure.rv_frozen o...   \n",
       "\n",
       "                                                           revenue  \n",
       "quarter_start company_ticker ForecastOriginTime ModelName           \n",
       "2014-07-01    AAPL           2014-04-01         arima211  42123.00  \n",
       "2014-10-01    AAPL           2014-04-01         arima211  74599.00  \n",
       "2015-01-01    AAPL           2014-04-01         arima211  58010.00  \n",
       "2015-04-01    AAPL           2014-04-01         arima211  49605.00  "
      ]
     },
     "execution_count": 20,
     "metadata": {},
     "output_type": "execute_result"
    }
   ],
   "source": [
    "validate_df"
   ]
  },
  {
   "cell_type": "code",
   "execution_count": 21,
   "metadata": {},
   "outputs": [
    {
     "data": {
      "text/plain": [
       "17.28621890952115"
      ]
     },
     "execution_count": 21,
     "metadata": {},
     "output_type": "execute_result"
    }
   ],
   "source": [
    "validate_df.calc_error(err_name='MAPE')"
   ]
  }
 ],
 "metadata": {
  "kernelspec": {
   "display_name": "Python [conda env:py35]",
   "language": "python",
   "name": "conda-env-py35-py"
  },
  "language_info": {
   "codemirror_mode": {
    "name": "ipython",
    "version": 3
   },
   "file_extension": ".py",
   "mimetype": "text/x-python",
   "name": "python",
   "nbconvert_exporter": "python",
   "pygments_lexer": "ipython3",
   "version": "3.5.2"
  }
 },
 "nbformat": 4,
 "nbformat_minor": 2
}
